{
 "cells": [
  {
   "cell_type": "code",
   "id": "e10e18f3-3dbb-44cc-b273-58045048709e",
   "metadata": {
    "ExecuteTime": {
     "end_time": "2024-05-17T15:21:17.547717Z",
     "start_time": "2024-05-17T15:21:17.511774Z"
    }
   },
   "source": [
    "import pickle\n",
    "import pandas as pd\n",
    "import numpy as np\n",
    "from sklearn import metrics\n",
    "from sklearn.linear_model import LinearRegression\n",
    "from sklearn.model_selection import train_test_split\n",
    "pd.set_option('display.max_columns', 500)\n",
    "pd.set_option('display.max_rows', 500)\n",
    "\n",
    "# custom files\n",
    "import model_best_hyperparameters\n",
    "import columns\n",
    "\n",
    "# read train data\n",
    "ds = pd.read_csv(r\"..\\data\\predict.csv\")\n",
    "print('new data size', ds.shape)\n",
    "\n",
    "numeric_columns = ds.select_dtypes(include=['float64', 'int64']).columns\n",
    "for col in numeric_columns:\n",
    "    if ds[col].isnull().any():\n",
    "        median_value = ds[col].median()\n",
    "        ds[col].fillna(median_value, inplace=True)\n",
    "\n",
    "categorical_columns = ds.select_dtypes(include=['object']).columns\n",
    "\n",
    "map_dicts = dict()\n",
    "for column in categorical_columns:\n",
    "    ds[column] = ds[column].astype('category')\n",
    "    map_dicts[column] = dict(zip(ds[column], ds[column].cat.codes))\n",
    "    ds[column] = ds[column].cat.codes\n",
    "\n",
    "\n",
    "# Define target and features columns\n",
    "X = ds[columns.X_columns]\n",
    "\n",
    "# load the model and predict\n",
    "rf = pickle.load(open(r\"..\\models\\finalized_model.sav\", 'rb'))\n",
    "\n",
    "y_pred = rf.predict(X)\n",
    "\n",
    "ds['AdoptionSpeed'] = rf.predict(X)\n",
    "ds.to_csv(r\"..\\models\\prediction_results.csv\", index=False)"
   ],
   "outputs": [
    {
     "name": "stdout",
     "output_type": "stream",
     "text": [
      "new data size (100, 8)\n"
     ]
    }
   ],
   "execution_count": 2
  }
 ],
 "metadata": {
  "kernelspec": {
   "display_name": "Python 3 (ipykernel)",
   "language": "python",
   "name": "python3"
  },
  "language_info": {
   "codemirror_mode": {
    "name": "ipython",
    "version": 3
   },
   "file_extension": ".py",
   "mimetype": "text/x-python",
   "name": "python",
   "nbconvert_exporter": "python",
   "pygments_lexer": "ipython3",
   "version": "3.12.1"
  }
 },
 "nbformat": 4,
 "nbformat_minor": 5
}
