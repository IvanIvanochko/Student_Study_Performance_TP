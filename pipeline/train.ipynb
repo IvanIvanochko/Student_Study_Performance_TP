{
 "cells": [
  {
   "cell_type": "code",
   "id": "fed37628-cee0-445a-bd99-9435325d3047",
   "metadata": {
    "ExecuteTime": {
     "end_time": "2024-05-17T15:19:14.071711Z",
     "start_time": "2024-05-17T15:19:14.025987Z"
    }
   },
   "source": [
    "import pickle\n",
    "import pandas as pd\n",
    "import numpy as np\n",
    "from sklearn import metrics\n",
    "from sklearn.linear_model import LinearRegression\n",
    "from sklearn.model_selection import train_test_split\n",
    "\n",
    "# custom files\n",
    "import model_best_hyperparameters\n",
    "import columns\n",
    "\n",
    "# read train data\n",
    "ds = pd.read_csv(r'..\\data\\train.csv')\n",
    "\n",
    "# feature engineering\n",
    "\n",
    "numeric_columns = ds.select_dtypes(include=['float64', 'int64']).columns\n",
    "for col in numeric_columns:\n",
    "    if ds[col].isnull().any():\n",
    "        median_value = ds[col].median()\n",
    "        ds[col].fillna(median_value, inplace=True)\n",
    "\n",
    "categorical_columns = ds.select_dtypes(include=['object']).columns\n",
    "\n",
    "map_dicts = dict()\n",
    "for column in categorical_columns:\n",
    "    ds[column] = ds[column].astype('category')\n",
    "    map_dicts[column] = dict(zip(ds[column], ds[column].cat.codes))\n",
    "    ds[column] = ds[column].cat.codes\n",
    "    \n",
    "\n",
    "# Define target and features columns\n",
    "X = ds[columns.X_columns]\n",
    "y = ds[columns.y_column]\n",
    "\n",
    "# Let's say we want to split the data in 90:10 for train:test dataset\n",
    "X_train, X_test, y_train, y_test = train_test_split(X,y, train_size=0.9)\n",
    "\n",
    "# Building and train Random Forest Model\n",
    "rf = LinearRegression(**model_best_hyperparameters.params)\n",
    "rf.fit(X_train, y_train)\n",
    "y_pred = rf.predict(X_test)\n",
    "\n",
    "filename = r'..\\models\\finalized_model.sav'\n",
    "pickle.dump(rf, open(filename, 'wb'))"
   ],
   "outputs": [],
   "execution_count": 5
  },
  {
   "metadata": {},
   "cell_type": "code",
   "outputs": [],
   "execution_count": null,
   "source": "",
   "id": "3882bbaa49aa1b3a"
  }
 ],
 "metadata": {
  "kernelspec": {
   "display_name": "Python 3 (ipykernel)",
   "language": "python",
   "name": "python3"
  },
  "language_info": {
   "codemirror_mode": {
    "name": "ipython",
    "version": 3
   },
   "file_extension": ".py",
   "mimetype": "text/x-python",
   "name": "python",
   "nbconvert_exporter": "python",
   "pygments_lexer": "ipython3",
   "version": "3.12.1"
  }
 },
 "nbformat": 4,
 "nbformat_minor": 5
}
