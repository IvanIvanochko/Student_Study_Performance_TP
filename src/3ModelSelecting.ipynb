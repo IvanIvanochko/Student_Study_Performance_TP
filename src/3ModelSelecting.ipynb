{
 "nbformat": 4,
 "nbformat_minor": 0,
 "metadata": {
  "colab": {
   "provenance": [],
   "collapsed_sections": [
    "FsgAASCLShX4"
   ],
   "authorship_tag": "ABX9TyMFjoVhdWirgp9CU6cKej/6"
  },
  "kernelspec": {
   "name": "python3",
   "display_name": "Python 3 (ipykernel)",
   "language": "python"
  },
  "language_info": {
   "name": "python"
  }
 },
 "cells": [
  {
   "cell_type": "code",
   "metadata": {
    "id": "Eh_rmroYnAVJ",
    "executionInfo": {
     "status": "ok",
     "timestamp": 1715207028324,
     "user_tz": -180,
     "elapsed": 255,
     "user": {
      "displayName": "Іван Іваночко",
      "userId": "09438379640706860617"
     }
    },
    "ExecuteTime": {
     "end_time": "2024-05-17T17:35:42.784427Z",
     "start_time": "2024-05-17T17:35:42.781643Z"
    }
   },
   "source": [
    "import os.path\n",
    "\n",
    "import pandas as pd\n",
    "import numpy as np\n",
    "import matplotlib.pyplot as plt\n",
    "import seaborn as sns\n",
    "from scipy import stats"
   ],
   "outputs": [],
   "execution_count": 52
  },
  {
   "cell_type": "code",
   "source": [
    "import warnings\n",
    "warnings.simplefilter('ignore')"
   ],
   "metadata": {
    "id": "pEHWDi4ESPZk",
    "executionInfo": {
     "status": "ok",
     "timestamp": 1715207028580,
     "user_tz": -180,
     "elapsed": 4,
     "user": {
      "displayName": "Іван Іваночко",
      "userId": "09438379640706860617"
     }
    },
    "ExecuteTime": {
     "end_time": "2024-05-17T17:35:42.867891Z",
     "start_time": "2024-05-17T17:35:42.865488Z"
    }
   },
   "outputs": [],
   "execution_count": 53
  },
  {
   "cell_type": "code",
   "source": [
    "pd.set_option('display.max_columns', 500)\n",
    "pd.set_option('display.max_rows', 500)"
   ],
   "metadata": {
    "id": "wiEIIq1FSQ7x",
    "executionInfo": {
     "status": "ok",
     "timestamp": 1715207028580,
     "user_tz": -180,
     "elapsed": 3,
     "user": {
      "displayName": "Іван Іваночко",
      "userId": "09438379640706860617"
     }
    },
    "ExecuteTime": {
     "end_time": "2024-05-17T17:35:42.909350Z",
     "start_time": "2024-05-17T17:35:42.906924Z"
    }
   },
   "outputs": [],
   "execution_count": 54
  },
  {
   "cell_type": "code",
   "source": "print(os.path.exists(\"../data/study_performance.csv\"))",
   "metadata": {
    "id": "g-x-ACEOSVyT",
    "colab": {
     "base_uri": "https://localhost:8080/"
    },
    "executionInfo": {
     "status": "ok",
     "timestamp": 1715207030558,
     "user_tz": -180,
     "elapsed": 400,
     "user": {
      "displayName": "Іван Іваночко",
      "userId": "09438379640706860617"
     }
    },
    "outputId": "daead5e5-17b1-4ee5-87a7-899867ae1bf3",
    "ExecuteTime": {
     "end_time": "2024-05-17T17:35:42.928466Z",
     "start_time": "2024-05-17T17:35:42.924430Z"
    }
   },
   "outputs": [
    {
     "name": "stdout",
     "output_type": "stream",
     "text": [
      "True\n"
     ]
    }
   ],
   "execution_count": 55
  },
  {
   "cell_type": "code",
   "source": "ds = pd.read_csv(\"../data/study_performance.csv\")",
   "metadata": {
    "id": "ovgAkQAOSYTz",
    "executionInfo": {
     "status": "ok",
     "timestamp": 1715207031181,
     "user_tz": -180,
     "elapsed": 625,
     "user": {
      "displayName": "Іван Іваночко",
      "userId": "09438379640706860617"
     }
    },
    "ExecuteTime": {
     "end_time": "2024-05-17T17:35:42.953948Z",
     "start_time": "2024-05-17T17:35:42.936925Z"
    }
   },
   "outputs": [],
   "execution_count": 56
  },
  {
   "cell_type": "code",
   "source": [
    "print('columns count - ',len(ds.columns), '\\n')\n",
    "print('columns: ',list(ds.columns))"
   ],
   "metadata": {
    "id": "7nMn-ReTSbMC",
    "colab": {
     "base_uri": "https://localhost:8080/"
    },
    "executionInfo": {
     "status": "ok",
     "timestamp": 1715207031181,
     "user_tz": -180,
     "elapsed": 3,
     "user": {
      "displayName": "Іван Іваночко",
      "userId": "09438379640706860617"
     }
    },
    "outputId": "72cbdb3b-43ea-4bed-a1a3-3dc65b59a511",
    "ExecuteTime": {
     "end_time": "2024-05-17T17:35:42.958615Z",
     "start_time": "2024-05-17T17:35:42.954953Z"
    }
   },
   "outputs": [
    {
     "name": "stdout",
     "output_type": "stream",
     "text": [
      "columns count -  8 \n",
      "\n",
      "columns:  ['gender', 'race_ethnicity', 'parental_level_of_education', 'lunch', 'test_preparation_course', 'math_score', 'reading_score', 'writing_score']\n"
     ]
    }
   ],
   "execution_count": 57
  },
  {
   "cell_type": "markdown",
   "source": [
    "## Data engineering"
   ],
   "metadata": {
    "id": "FsgAASCLShX4"
   }
  },
  {
   "cell_type": "code",
   "source": [
    "# Numerical data\n",
    "numeric_columns = ds.select_dtypes(include=['float64', 'int64']).columns\n",
    "for col in numeric_columns:\n",
    "    if ds[col].isnull().any():\n",
    "        median_value = ds[col].mode()[0]\n",
    "        ds[col].fillna(median_value, inplace=True)"
   ],
   "metadata": {
    "id": "pEMacq6iSdYS",
    "executionInfo": {
     "status": "ok",
     "timestamp": 1715207044996,
     "user_tz": -180,
     "elapsed": 256,
     "user": {
      "displayName": "Іван Іваночко",
      "userId": "09438379640706860617"
     }
    },
    "ExecuteTime": {
     "end_time": "2024-05-17T17:35:42.964268Z",
     "start_time": "2024-05-17T17:35:42.958615Z"
    }
   },
   "outputs": [],
   "execution_count": 58
  },
  {
   "cell_type": "code",
   "source": [
    "ds.isnull().sum().sum()"
   ],
   "metadata": {
    "colab": {
     "base_uri": "https://localhost:8080/"
    },
    "id": "bDjGr1EeTpYL",
    "executionInfo": {
     "status": "ok",
     "timestamp": 1715207052680,
     "user_tz": -180,
     "elapsed": 246,
     "user": {
      "displayName": "Іван Іваночко",
      "userId": "09438379640706860617"
     }
    },
    "outputId": "d6c80825-ba15-425b-e68d-9c8cec85af13",
    "ExecuteTime": {
     "end_time": "2024-05-17T17:35:42.970155Z",
     "start_time": "2024-05-17T17:35:42.964268Z"
    }
   },
   "outputs": [
    {
     "data": {
      "text/plain": [
       "0"
      ]
     },
     "execution_count": 59,
     "metadata": {},
     "output_type": "execute_result"
    }
   ],
   "execution_count": 59
  },
  {
   "cell_type": "code",
   "source": [
    "# Categorical\n",
    "categorical_columns = ds.select_dtypes(include=['object']).columns\n",
    "\n",
    "map_dicts = dict()\n",
    "for column in categorical_columns:\n",
    "    ds[column] = ds[column].astype('category')\n",
    "    map_dicts[column] = dict(zip(ds[column], ds[column].cat.codes))\n",
    "    ds[column] = ds[column].cat.codes"
   ],
   "metadata": {
    "id": "vaSHFP-zT8mi",
    "executionInfo": {
     "status": "ok",
     "timestamp": 1715207139682,
     "user_tz": -180,
     "elapsed": 265,
     "user": {
      "displayName": "Іван Іваночко",
      "userId": "09438379640706860617"
     }
    },
    "ExecuteTime": {
     "end_time": "2024-05-17T17:35:42.979144Z",
     "start_time": "2024-05-17T17:35:42.971199Z"
    }
   },
   "outputs": [],
   "execution_count": 60
  },
  {
   "cell_type": "code",
   "source": [
    "ds.isnull().sum().sum()"
   ],
   "metadata": {
    "colab": {
     "base_uri": "https://localhost:8080/"
    },
    "id": "7L9iHbVkUBbP",
    "executionInfo": {
     "status": "ok",
     "timestamp": 1715207152217,
     "user_tz": -180,
     "elapsed": 261,
     "user": {
      "displayName": "Іван Іваночко",
      "userId": "09438379640706860617"
     }
    },
    "outputId": "e078bb4a-b789-4b41-dd84-7563e5d79623",
    "ExecuteTime": {
     "end_time": "2024-05-17T17:35:43.008029Z",
     "start_time": "2024-05-17T17:35:43.003265Z"
    }
   },
   "outputs": [
    {
     "data": {
      "text/plain": [
       "0"
      ]
     },
     "execution_count": 61,
     "metadata": {},
     "output_type": "execute_result"
    }
   ],
   "execution_count": 61
  },
  {
   "cell_type": "markdown",
   "source": [
    "# Modelling"
   ],
   "metadata": {
    "id": "bRRqb5trUoVO"
   }
  },
  {
   "cell_type": "markdown",
   "source": [
    "## Regression"
   ],
   "metadata": {
    "id": "rkKic_AUV9H2"
   }
  },
  {
   "cell_type": "code",
   "source": [
    "from sklearn.linear_model import LinearRegression\n",
    "from lightgbm import LGBMRegressor\n",
    "from sklearn.linear_model import SGDRegressor\n",
    "from sklearn.linear_model import ElasticNet\n",
    "from sklearn.linear_model import BayesianRidge\n",
    "from sklearn.ensemble import RandomForestRegressor\n",
    "from sklearn.ensemble import GradientBoostingRegressor\n",
    "from sklearn.svm import SVR\n",
    "\n",
    "from sklearn.model_selection import train_test_split\n",
    "\n",
    "from sklearn import metrics"
   ],
   "metadata": {
    "id": "Ssmmh11-V6Jk",
    "executionInfo": {
     "status": "ok",
     "timestamp": 1715207691838,
     "user_tz": -180,
     "elapsed": 1488,
     "user": {
      "displayName": "Іван Іваночко",
      "userId": "09438379640706860617"
     }
    },
    "ExecuteTime": {
     "end_time": "2024-05-17T17:35:43.051836Z",
     "start_time": "2024-05-17T17:35:43.048415Z"
    }
   },
   "outputs": [],
   "execution_count": 62
  },
  {
   "cell_type": "code",
   "source": [
    "# Let's predict  age\n",
    "\n",
    "y_column = 'math_score'\n",
    "\n",
    "X_columns = ['gender', 'race_ethnicity', 'parental_level_of_education', 'lunch', 'test_preparation_course','reading_score', 'writing_score']\n",
    "X = ds[X_columns]\n",
    "y = ds[y_column]"
   ],
   "metadata": {
    "id": "xxtoWBksWFyF",
    "executionInfo": {
     "status": "ok",
     "timestamp": 1715207745824,
     "user_tz": -180,
     "elapsed": 2,
     "user": {
      "displayName": "Іван Іваночко",
      "userId": "09438379640706860617"
     }
    },
    "ExecuteTime": {
     "end_time": "2024-05-17T17:35:43.073936Z",
     "start_time": "2024-05-17T17:35:43.069925Z"
    }
   },
   "outputs": [],
   "execution_count": 63
  },
  {
   "cell_type": "code",
   "metadata": {
    "id": "Z3tNeBv8uaS8",
    "executionInfo": {
     "status": "ok",
     "timestamp": 1715207746981,
     "user_tz": -180,
     "elapsed": 1,
     "user": {
      "displayName": "Іван Іваночко",
      "userId": "09438379640706860617"
     }
    },
    "ExecuteTime": {
     "end_time": "2024-05-17T17:35:43.100004Z",
     "start_time": "2024-05-17T17:35:43.095542Z"
    }
   },
   "source": "X_train, X_test, y_train, y_test = train_test_split(X, y, test_size=0.1, random_state=42)",
   "outputs": [],
   "execution_count": 64
  },
  {
   "cell_type": "code",
   "source": [
    "models = {\n",
    "    'LinearRegression' : LinearRegression(),\n",
    "'LGBMRegressor' :LGBMRegressor(),\n",
    "'SGDRegressor' :SGDRegressor(),\n",
    "'RandomForestRegressor' :RandomForestRegressor(),\n",
    "'ElasticNet' :ElasticNet(),\n",
    "'BayesianRidge' :BayesianRidge(),\n",
    "'GradientBoostingRegressor' :GradientBoostingRegressor(),\n",
    "'SVR' :SVR(),\n",
    "}"
   ],
   "metadata": {
    "id": "7scwDwqVWWNV",
    "executionInfo": {
     "status": "ok",
     "timestamp": 1715207761522,
     "user_tz": -180,
     "elapsed": 270,
     "user": {
      "displayName": "Іван Іваночко",
      "userId": "09438379640706860617"
     }
    },
    "ExecuteTime": {
     "end_time": "2024-05-17T17:35:43.104481Z",
     "start_time": "2024-05-17T17:35:43.101009Z"
    }
   },
   "outputs": [],
   "execution_count": 65
  },
  {
   "cell_type": "code",
   "source": [
    "regressors = dict()\n",
    "for name, model in models.items():\n",
    "    print('training ',name)\n",
    "    regressor = model\n",
    "    regressor.fit(X_train, y_train)\n",
    "    y_pred = regressor.predict(X_test)\n",
    "    print(metrics.mean_absolute_error(y_test, y_pred))\n",
    "    print(metrics.mean_absolute_percentage_error(y_test, y_pred))\n",
    "    regressors[name] = regressor\n"
   ],
   "metadata": {
    "colab": {
     "base_uri": "https://localhost:8080/"
    },
    "id": "VVOuv7g_WYZ-",
    "executionInfo": {
     "status": "ok",
     "timestamp": 1715207774617,
     "user_tz": -180,
     "elapsed": 5394,
     "user": {
      "displayName": "Іван Іваночко",
      "userId": "09438379640706860617"
     }
    },
    "outputId": "a6aba79d-65f5-4d17-b4d6-c2a571033356",
    "ExecuteTime": {
     "end_time": "2024-05-17T17:35:43.650567Z",
     "start_time": "2024-05-17T17:35:43.113538Z"
    }
   },
   "outputs": [
    {
     "name": "stdout",
     "output_type": "stream",
     "text": [
      "training  LinearRegression\n",
      "3.724803305843464\n",
      "269538943803249.62\n",
      "training  LGBMRegressor\n",
      "[LightGBM] [Info] Auto-choosing col-wise multi-threading, the overhead of testing was 0.000117 seconds.\n",
      "You can set `force_col_wise=true` to remove the overhead.\n",
      "[LightGBM] [Info] Total Bins 147\n",
      "[LightGBM] [Info] Number of data points in the train set: 900, number of used features: 7\n",
      "[LightGBM] [Info] Start training from score 66.326667\n",
      "[LightGBM] [Warning] No further splits with positive gain, best gain: -inf\n",
      "4.970959258510825\n",
      "1154544717177826.5\n",
      "training  SGDRegressor\n",
      "4132112092701.669\n",
      "5.871872402742022e+25\n",
      "training  RandomForestRegressor\n",
      "4.6986799999999995\n",
      "697832762261058.4\n",
      "training  ElasticNet\n",
      "5.789088700597911\n",
      "804932208978639.6\n",
      "training  BayesianRidge\n",
      "3.7232424484408373\n",
      "273965667632177.47\n",
      "training  GradientBoostingRegressor\n",
      "4.414182418851632\n",
      "581202420972165.2\n",
      "training  SVR\n",
      "7.991366858312685\n",
      "2035680782177480.2\n"
     ]
    }
   ],
   "execution_count": 66
  },
  {
   "cell_type": "markdown",
   "source": [
    "### Feature importances"
   ],
   "metadata": {
    "id": "Au0QNRqaWbMG"
   }
  },
  {
   "cell_type": "code",
   "source": [
    "# Get the coefficients from the Linear Regression model\n",
    "coefficients = regressors['LinearRegression'].coef_\n",
    "\n",
    "# Get the absolute values of coefficients to represent importance\n",
    "abs_coefficients = np.abs(coefficients)\n",
    "\n",
    "# Get the indices that would sort the absolute coefficients in descending order\n",
    "indices = np.argsort(abs_coefficients)[::-1]\n",
    "\n",
    "# Print the feature ranking\n",
    "print(\"Feature ranking:\")\n",
    "for f in range(X_train.shape[1]):\n",
    "    print(\"%d. %s (%f)\" % (f + 1, X_columns[indices[f]], abs_coefficients[indices[f]]))\n"
   ],
   "metadata": {
    "colab": {
     "base_uri": "https://localhost:8080/"
    },
    "id": "RRflVCRtWb0x",
    "executionInfo": {
     "status": "ok",
     "timestamp": 1715207787301,
     "user_tz": -180,
     "elapsed": 286,
     "user": {
      "displayName": "Іван Іваночко",
      "userId": "09438379640706860617"
     }
    },
    "outputId": "4ead0d4f-7ba9-4ccd-b1c0-02433693db8b",
    "ExecuteTime": {
     "end_time": "2024-05-17T17:35:43.654723Z",
     "start_time": "2024-05-17T17:35:43.651572Z"
    }
   },
   "outputs": [
    {
     "name": "stdout",
     "output_type": "stream",
     "text": [
      "Feature ranking:\n",
      "1. gender (13.032917)\n",
      "2. lunch (3.653310)\n",
      "3. test_preparation_course (2.902741)\n",
      "4. race_ethnicity (0.865138)\n",
      "5. writing_score (0.611623)\n",
      "6. reading_score (0.331159)\n",
      "7. parental_level_of_education (0.145775)\n"
     ]
    }
   ],
   "execution_count": 67
  },
  {
   "cell_type": "code",
   "source": [
    "# Plot the feature importances (coefficients)\n",
    "plt.figure(figsize=(7, 12))\n",
    "plt.title('Feature Importances (Coefficients)')\n",
    "plt.barh(range(len(indices)), abs_coefficients[indices], color='b', align='center')\n",
    "plt.yticks(range(len(indices)), [X_columns[i] for i in indices])\n",
    "plt.xlabel('Absolute Coefficient Value')\n",
    "plt.show()"
   ],
   "metadata": {
    "colab": {
     "base_uri": "https://localhost:8080/",
     "height": 1000
    },
    "id": "IbJJNUX3Wd1c",
    "executionInfo": {
     "status": "ok",
     "timestamp": 1715207797724,
     "user_tz": -180,
     "elapsed": 974,
     "user": {
      "displayName": "Іван Іваночко",
      "userId": "09438379640706860617"
     }
    },
    "outputId": "3ba9a11e-612e-43a1-b3a9-9781dd76891f",
    "ExecuteTime": {
     "end_time": "2024-05-17T17:35:43.807477Z",
     "start_time": "2024-05-17T17:35:43.655674Z"
    }
   },
   "outputs": [
    {
     "data": {
      "text/plain": [
       "<Figure size 700x1200 with 1 Axes>"
      ],
      "image/png": "[encoded data removed]"
     },
     "metadata": {},
     "output_type": "display_data"
    }
   ],
   "execution_count": 68
  }
 ]
}
