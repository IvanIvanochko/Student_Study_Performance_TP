{
 "nbformat": 4,
 "nbformat_minor": 0,
 "metadata": {
  "colab": {
   "provenance": [],
   "authorship_tag": "ABX9TyO88hLkG57rvjyazXoRfjc2"
  },
  "kernelspec": {
   "name": "python3",
   "display_name": "Python 3 (ipykernel)",
   "language": "python"
  },
  "language_info": {
   "name": "python"
  }
 },
 "cells": [
  {
   "cell_type": "code",
   "metadata": {
    "id": "_nXWsDd5eZVQ",
    "executionInfo": {
     "status": "ok",
     "timestamp": 1715210124944,
     "user_tz": -180,
     "elapsed": 3172,
     "user": {
      "displayName": "Іван Іваночко",
      "userId": "09438379640706860617"
     }
    },
    "ExecuteTime": {
     "end_time": "2024-05-17T14:57:10.066917Z",
     "start_time": "2024-05-17T14:57:10.063678Z"
    }
   },
   "source": [
    "import os.path\n",
    "\n",
    "import pandas as pd\n",
    "import numpy as np\n",
    "import matplotlib.pyplot as plt\n",
    "import seaborn as sns\n",
    "from scipy import stats\n",
    "from sklearn.linear_model import LinearRegression\n",
    "from sklearn.model_selection import GridSearchCV\n",
    "from sklearn import metrics\n",
    "from sklearn.model_selection import train_test_split"
   ],
   "outputs": [],
   "execution_count": 21
  },
  {
   "cell_type": "code",
   "source": [
    "import warnings\n",
    "warnings.simplefilter('ignore')"
   ],
   "metadata": {
    "id": "N6obS5c5eigb",
    "executionInfo": {
     "status": "ok",
     "timestamp": 1715210124945,
     "user_tz": -180,
     "elapsed": 6,
     "user": {
      "displayName": "Іван Іваночко",
      "userId": "09438379640706860617"
     }
    },
    "ExecuteTime": {
     "end_time": "2024-05-17T14:57:10.460981Z",
     "start_time": "2024-05-17T14:57:10.457469Z"
    }
   },
   "outputs": [],
   "execution_count": 22
  },
  {
   "cell_type": "code",
   "source": [
    "pd.set_option('display.max_columns', 500)\n",
    "pd.set_option('display.max_rows', 500)"
   ],
   "metadata": {
    "id": "2UtJvw3aemFp",
    "executionInfo": {
     "status": "ok",
     "timestamp": 1715210124945,
     "user_tz": -180,
     "elapsed": 4,
     "user": {
      "displayName": "Іван Іваночко",
      "userId": "09438379640706860617"
     }
    },
    "ExecuteTime": {
     "end_time": "2024-05-17T14:57:10.831178Z",
     "start_time": "2024-05-17T14:57:10.828247Z"
    }
   },
   "outputs": [],
   "execution_count": 23
  },
  {
   "cell_type": "code",
   "source": "print(os.path.exists(\"../data/study_performance.csv\"))",
   "metadata": {
    "colab": {
     "base_uri": "https://localhost:8080/"
    },
    "id": "aDZ3GGgveoob",
    "executionInfo": {
     "status": "ok",
     "timestamp": 1715210144495,
     "user_tz": -180,
     "elapsed": 383,
     "user": {
      "displayName": "Іван Іваночко",
      "userId": "09438379640706860617"
     }
    },
    "outputId": "6a5b3082-cf45-460f-ff16-8d367d771b98",
    "ExecuteTime": {
     "end_time": "2024-05-17T14:57:11.237404Z",
     "start_time": "2024-05-17T14:57:11.233321Z"
    }
   },
   "outputs": [
    {
     "name": "stdout",
     "output_type": "stream",
     "text": [
      "True\n"
     ]
    }
   ],
   "execution_count": 24
  },
  {
   "cell_type": "code",
   "source": "ds = pd.read_csv(\"../data/study_performance.csv\")",
   "metadata": {
    "id": "P-vIArnseqLG",
    "executionInfo": {
     "status": "ok",
     "timestamp": 1715210145111,
     "user_tz": -180,
     "elapsed": 619,
     "user": {
      "displayName": "Іван Іваночко",
      "userId": "09438379640706860617"
     }
    },
    "ExecuteTime": {
     "end_time": "2024-05-17T14:57:11.620565Z",
     "start_time": "2024-05-17T14:57:11.603903Z"
    }
   },
   "outputs": [],
   "execution_count": 25
  },
  {
   "cell_type": "code",
   "source": [
    "print('columns count - ',len(ds.columns), '\\n')\n",
    "print('columns: ',list(ds.columns))"
   ],
   "metadata": {
    "colab": {
     "base_uri": "https://localhost:8080/"
    },
    "id": "50TnGoESereq",
    "executionInfo": {
     "status": "ok",
     "timestamp": 1715210145112,
     "user_tz": -180,
     "elapsed": 2,
     "user": {
      "displayName": "Іван Іваночко",
      "userId": "09438379640706860617"
     }
    },
    "outputId": "fe495a31-4508-496d-9bbc-97ad47d6f430",
    "ExecuteTime": {
     "end_time": "2024-05-17T14:57:11.980296Z",
     "start_time": "2024-05-17T14:57:11.977442Z"
    }
   },
   "outputs": [
    {
     "name": "stdout",
     "output_type": "stream",
     "text": [
      "columns count -  8 \n",
      "\n",
      "columns:  ['gender', 'race_ethnicity', 'parental_level_of_education', 'lunch', 'test_preparation_course', 'math_score', 'reading_score', 'writing_score']\n"
     ]
    }
   ],
   "execution_count": 26
  },
  {
   "cell_type": "markdown",
   "source": [
    "## Data engineering"
   ],
   "metadata": {
    "id": "wCQV0c9BewS-"
   }
  },
  {
   "cell_type": "code",
   "source": [
    "# Numerical data\n",
    "numeric_columns = ds.select_dtypes(include=['float64', 'int64']).columns\n",
    "for col in numeric_columns:\n",
    "    if ds[col].isnull().any():\n",
    "        median_value = ds[col].mode()[0]\n",
    "        ds[col].fillna(median_value, inplace=True)"
   ],
   "metadata": {
    "id": "0_TN0SOCevsq",
    "executionInfo": {
     "status": "ok",
     "timestamp": 1715210145112,
     "user_tz": -180,
     "elapsed": 2,
     "user": {
      "displayName": "Іван Іваночко",
      "userId": "09438379640706860617"
     }
    },
    "ExecuteTime": {
     "end_time": "2024-05-17T14:57:13.089676Z",
     "start_time": "2024-05-17T14:57:13.084309Z"
    }
   },
   "outputs": [],
   "execution_count": 27
  },
  {
   "cell_type": "code",
   "source": [
    "ds.isnull().sum().sum()"
   ],
   "metadata": {
    "colab": {
     "base_uri": "https://localhost:8080/"
    },
    "id": "HUOYJZhIez9n",
    "executionInfo": {
     "status": "ok",
     "timestamp": 1715210145375,
     "user_tz": -180,
     "elapsed": 4,
     "user": {
      "displayName": "Іван Іваночко",
      "userId": "09438379640706860617"
     }
    },
    "outputId": "7568ea55-a7fd-4b12-9b73-6162fc65a266",
    "ExecuteTime": {
     "end_time": "2024-05-17T14:57:13.586503Z",
     "start_time": "2024-05-17T14:57:13.582461Z"
    }
   },
   "outputs": [
    {
     "data": {
      "text/plain": [
       "0"
      ]
     },
     "execution_count": 28,
     "metadata": {},
     "output_type": "execute_result"
    }
   ],
   "execution_count": 28
  },
  {
   "cell_type": "code",
   "source": [
    "# Categorical\n",
    "categorical_columns = ds.select_dtypes(include=['object']).columns\n",
    "\n",
    "map_dicts = dict()\n",
    "for column in categorical_columns:\n",
    "    ds[column] = ds[column].astype('category')\n",
    "    map_dicts[column] = dict(zip(ds[column], ds[column].cat.codes))\n",
    "    ds[column] = ds[column].cat.codes"
   ],
   "metadata": {
    "id": "IXHksKQ1e0dP",
    "executionInfo": {
     "status": "ok",
     "timestamp": 1715210145375,
     "user_tz": -180,
     "elapsed": 3,
     "user": {
      "displayName": "Іван Іваночко",
      "userId": "09438379640706860617"
     }
    },
    "ExecuteTime": {
     "end_time": "2024-05-17T14:57:14.130473Z",
     "start_time": "2024-05-17T14:57:14.122627Z"
    }
   },
   "outputs": [],
   "execution_count": 29
  },
  {
   "cell_type": "code",
   "source": [
    "ds.isnull().sum().sum()"
   ],
   "metadata": {
    "colab": {
     "base_uri": "https://localhost:8080/"
    },
    "id": "wK9HSODQe2sT",
    "executionInfo": {
     "status": "ok",
     "timestamp": 1715210145375,
     "user_tz": -180,
     "elapsed": 3,
     "user": {
      "displayName": "Іван Іваночко",
      "userId": "09438379640706860617"
     }
    },
    "outputId": "e0d932e4-53c7-4f14-a0e8-f60eefd6a96f",
    "ExecuteTime": {
     "end_time": "2024-05-17T14:57:14.975887Z",
     "start_time": "2024-05-17T14:57:14.970655Z"
    }
   },
   "outputs": [
    {
     "data": {
      "text/plain": [
       "0"
      ]
     },
     "execution_count": 30,
     "metadata": {},
     "output_type": "execute_result"
    }
   ],
   "execution_count": 30
  },
  {
   "cell_type": "markdown",
   "source": [
    "# Model tuning\n"
   ],
   "metadata": {
    "id": "Wsg-_0r3fgd9"
   }
  },
  {
   "cell_type": "markdown",
   "source": [
    "#### Define target and features columns"
   ],
   "metadata": {
    "id": "r1QaIzeTfi_G"
   }
  },
  {
   "cell_type": "code",
   "source": [
    "y_column = ['math_score'] # target variable\n",
    "X_columns = ['gender', 'race_ethnicity', 'parental_level_of_education', 'lunch', 'test_preparation_course', 'reading_score', 'writing_score']\n",
    "X = ds[X_columns]\n",
    "y = ds[y_column]"
   ],
   "metadata": {
    "id": "eiv_BfFCfg-H",
    "executionInfo": {
     "status": "ok",
     "timestamp": 1715210194582,
     "user_tz": -180,
     "elapsed": 251,
     "user": {
      "displayName": "Іван Іваночко",
      "userId": "09438379640706860617"
     }
    },
    "ExecuteTime": {
     "end_time": "2024-05-17T14:57:16.719971Z",
     "start_time": "2024-05-17T14:57:16.714283Z"
    }
   },
   "outputs": [],
   "execution_count": 31
  },
  {
   "cell_type": "code",
   "source": [
    "# Let's say we want to split the data in 80:10:10 for train:valid:test dataset\n",
    "# In the first step we will split the data in training and remaining dataset\n",
    "X_train, X_test, y_train, y_test = train_test_split(X,y, train_size=0.8)\n",
    "\n",
    "print(X_train.shape)\n",
    "print(y_train.shape)\n",
    "print(X_test.shape)\n",
    "print(y_test.shape)\n"
   ],
   "metadata": {
    "colab": {
     "base_uri": "https://localhost:8080/"
    },
    "id": "oStX4g80fqQG",
    "executionInfo": {
     "status": "ok",
     "timestamp": 1715210202690,
     "user_tz": -180,
     "elapsed": 269,
     "user": {
      "displayName": "Іван Іваночко",
      "userId": "09438379640706860617"
     }
    },
    "outputId": "4d9d544d-3925-41d2-f5fd-c8dcbaf12884",
    "ExecuteTime": {
     "end_time": "2024-05-17T14:57:20.919154Z",
     "start_time": "2024-05-17T14:57:20.914717Z"
    }
   },
   "outputs": [
    {
     "name": "stdout",
     "output_type": "stream",
     "text": [
      "(800, 7)\n",
      "(800, 1)\n",
      "(200, 7)\n",
      "(200, 1)\n"
     ]
    }
   ],
   "execution_count": 32
  },
  {
   "cell_type": "markdown",
   "source": "#### Building a Baseline Linear Regression Model",
   "metadata": {
    "id": "H2dOXB1hftMF"
   }
  },
  {
   "cell_type": "code",
   "source": "rf = LinearRegression()",
   "metadata": {
    "id": "yCpgwHlvftxH",
    "executionInfo": {
     "status": "ok",
     "timestamp": 1715210285041,
     "user_tz": -180,
     "elapsed": 253,
     "user": {
      "displayName": "Іван Іваночко",
      "userId": "09438379640706860617"
     }
    },
    "ExecuteTime": {
     "end_time": "2024-05-17T14:57:59.489833Z",
     "start_time": "2024-05-17T14:57:59.486222Z"
    }
   },
   "outputs": [],
   "execution_count": 34
  },
  {
   "cell_type": "code",
   "source": [
    "rf.fit(X_train, y_train)\n",
    "y_pred = rf.predict(X_test)"
   ],
   "metadata": {
    "id": "r0ANRgX7fvXD",
    "executionInfo": {
     "status": "ok",
     "timestamp": 1715210287458,
     "user_tz": -180,
     "elapsed": 2159,
     "user": {
      "displayName": "Іван Іваночко",
      "userId": "09438379640706860617"
     }
    },
    "ExecuteTime": {
     "end_time": "2024-05-17T14:58:01.519920Z",
     "start_time": "2024-05-17T14:58:01.513293Z"
    }
   },
   "outputs": [],
   "execution_count": 35
  },
  {
   "cell_type": "code",
   "source": [
    "rf.get_params()"
   ],
   "metadata": {
    "colab": {
     "base_uri": "https://localhost:8080/"
    },
    "id": "zlXKspPTfzK8",
    "executionInfo": {
     "status": "ok",
     "timestamp": 1715210287458,
     "user_tz": -180,
     "elapsed": 6,
     "user": {
      "displayName": "Іван Іваночко",
      "userId": "09438379640706860617"
     }
    },
    "outputId": "3041f454-2120-4b7e-e306-dd65a589a150",
    "ExecuteTime": {
     "end_time": "2024-05-17T14:58:11.239798Z",
     "start_time": "2024-05-17T14:58:11.236662Z"
    }
   },
   "outputs": [
    {
     "data": {
      "text/plain": [
       "{'copy_X': True, 'fit_intercept': True, 'n_jobs': None, 'positive': False}"
      ]
     },
     "execution_count": 37,
     "metadata": {},
     "output_type": "execute_result"
    }
   ],
   "execution_count": 37
  },
  {
   "cell_type": "markdown",
   "source": [
    "#### Hyperparameter Tuning"
   ],
   "metadata": {
    "id": "_Q5Ud3XPf1ZU"
   }
  },
  {
   "cell_type": "code",
   "source": [
    "# Define the parameter grid for Linear Regression\n",
    "param_grid = {\n",
    "    'fit_intercept': [True, False],\n",
    "    'positive': [True, False]  \n",
    "}\n",
    "\n",
    "# Instantiate the Linear Regression model\n",
    "lr = LinearRegression()\n",
    "\n",
    "# Create GridSearchCV\n",
    "grid = GridSearchCV(estimator=lr,\n",
    "                    param_grid=param_grid,\n",
    "                    scoring='neg_mean_squared_error',  # Use a regression metric\n",
    "                    cv=5,\n",
    "                    verbose=3,\n",
    "                    return_train_score=True)\n",
    "\n",
    "# Fit the grid search to the data\n",
    "grid.fit(X_train, y_train)\n",
    "\n",
    "# Print the best parameters and best score\n",
    "print(\"The best parameters are %s with a score of %0.2f\"\n",
    "      % (grid.best_params_, -grid.best_score_))  # Use negative mean squared error as the score"
   ],
   "metadata": {
    "colab": {
     "base_uri": "https://localhost:8080/"
    },
    "id": "MNtcpRApf1t0",
    "outputId": "637fba7b-8ac1-4d58-abef-da8c49aa3405",
    "ExecuteTime": {
     "end_time": "2024-05-17T14:59:57.458811Z",
     "start_time": "2024-05-17T14:59:57.348036Z"
    }
   },
   "outputs": [
    {
     "name": "stdout",
     "output_type": "stream",
     "text": [
      "Fitting 5 folds for each of 4 candidates, totalling 20 fits\n",
      "[CV 1/5] END fit_intercept=True, positive=True;, score=(train=-29.114, test=-35.075) total time=   0.0s\n",
      "[CV 2/5] END fit_intercept=True, positive=True;, score=(train=-29.160, test=-35.358) total time=   0.0s\n",
      "[CV 3/5] END fit_intercept=True, positive=True;, score=(train=-30.785, test=-28.398) total time=   0.0s\n",
      "[CV 4/5] END fit_intercept=True, positive=True;, score=(train=-30.936, test=-27.638) total time=   0.0s\n",
      "[CV 5/5] END fit_intercept=True, positive=True;, score=(train=-30.689, test=-28.838) total time=   0.0s\n",
      "[CV 1/5] END fit_intercept=True, positive=False;, score=(train=-29.114, test=-35.075) total time=   0.0s\n",
      "[CV 2/5] END fit_intercept=True, positive=False;, score=(train=-29.160, test=-35.358) total time=   0.0s\n",
      "[CV 3/5] END fit_intercept=True, positive=False;, score=(train=-30.785, test=-28.398) total time=   0.0s\n",
      "[CV 4/5] END fit_intercept=True, positive=False;, score=(train=-30.936, test=-27.638) total time=   0.0s\n",
      "[CV 5/5] END fit_intercept=True, positive=False;, score=(train=-30.689, test=-28.838) total time=   0.0s\n",
      "[CV 1/5] END fit_intercept=False, positive=True;, score=(train=-32.010, test=-39.902) total time=   0.0s\n",
      "[CV 2/5] END fit_intercept=False, positive=True;, score=(train=-31.885, test=-40.909) total time=   0.0s\n",
      "[CV 3/5] END fit_intercept=False, positive=True;, score=(train=-34.292, test=-30.739) total time=   0.0s\n",
      "[CV 4/5] END fit_intercept=False, positive=True;, score=(train=-34.321, test=-30.459) total time=   0.0s\n",
      "[CV 5/5] END fit_intercept=False, positive=True;, score=(train=-34.562, test=-29.401) total time=   0.0s\n",
      "[CV 1/5] END fit_intercept=False, positive=False;, score=(train=-31.849, test=-40.033) total time=   0.0s\n",
      "[CV 2/5] END fit_intercept=False, positive=False;, score=(train=-31.768, test=-40.855) total time=   0.0s\n",
      "[CV 3/5] END fit_intercept=False, positive=False;, score=(train=-34.160, test=-30.762) total time=   0.0s\n",
      "[CV 4/5] END fit_intercept=False, positive=False;, score=(train=-34.307, test=-30.198) total time=   0.0s\n",
      "[CV 5/5] END fit_intercept=False, positive=False;, score=(train=-34.388, test=-29.608) total time=   0.0s\n",
      "The best parameters are {'fit_intercept': True, 'positive': True} with a score of 31.06\n"
     ]
    }
   ],
   "execution_count": 39
  },
  {
   "cell_type": "code",
   "source": [
    "grid_results = pd.concat([pd.DataFrame(grid.cv_results_[\"params\"]),\n",
    "                          pd.DataFrame(grid.cv_results_[\"mean_test_score\"],\n",
    "                          columns=[\"precision\"])],\n",
    "                          axis=1)\n",
    "\n",
    "grid_results"
   ],
   "metadata": {
    "id": "5Cp4C2kRf3yI",
    "ExecuteTime": {
     "end_time": "2024-05-17T15:01:06.759073Z",
     "start_time": "2024-05-17T15:01:06.752308Z"
    }
   },
   "outputs": [
    {
     "data": {
      "text/plain": [
       "   fit_intercept  positive  precision\n",
       "0           True      True -31.061210\n",
       "1           True     False -31.061210\n",
       "2          False      True -34.282032\n",
       "3          False     False -34.291093"
      ],
      "text/html": [
       "<div>\n",
       "<style scoped>\n",
       "    .dataframe tbody tr th:only-of-type {\n",
       "        vertical-align: middle;\n",
       "    }\n",
       "\n",
       "    .dataframe tbody tr th {\n",
       "        vertical-align: top;\n",
       "    }\n",
       "\n",
       "    .dataframe thead th {\n",
       "        text-align: right;\n",
       "    }\n",
       "</style>\n",
       "<table border=\"1\" class=\"dataframe\">\n",
       "  <thead>\n",
       "    <tr style=\"text-align: right;\">\n",
       "      <th></th>\n",
       "      <th>fit_intercept</th>\n",
       "      <th>positive</th>\n",
       "      <th>precision</th>\n",
       "    </tr>\n",
       "  </thead>\n",
       "  <tbody>\n",
       "    <tr>\n",
       "      <th>0</th>\n",
       "      <td>True</td>\n",
       "      <td>True</td>\n",
       "      <td>-31.061210</td>\n",
       "    </tr>\n",
       "    <tr>\n",
       "      <th>1</th>\n",
       "      <td>True</td>\n",
       "      <td>False</td>\n",
       "      <td>-31.061210</td>\n",
       "    </tr>\n",
       "    <tr>\n",
       "      <th>2</th>\n",
       "      <td>False</td>\n",
       "      <td>True</td>\n",
       "      <td>-34.282032</td>\n",
       "    </tr>\n",
       "    <tr>\n",
       "      <th>3</th>\n",
       "      <td>False</td>\n",
       "      <td>False</td>\n",
       "      <td>-34.291093</td>\n",
       "    </tr>\n",
       "  </tbody>\n",
       "</table>\n",
       "</div>"
      ]
     },
     "execution_count": 40,
     "metadata": {},
     "output_type": "execute_result"
    }
   ],
   "execution_count": 40
  },
  {
   "cell_type": "code",
   "source": [
    "grid_results.columns"
   ],
   "metadata": {
    "id": "dso097l9f62i",
    "ExecuteTime": {
     "end_time": "2024-05-17T15:01:11.886283Z",
     "start_time": "2024-05-17T15:01:11.882802Z"
    }
   },
   "outputs": [
    {
     "data": {
      "text/plain": [
       "Index(['fit_intercept', 'positive', 'precision'], dtype='object')"
      ]
     },
     "execution_count": 41,
     "metadata": {},
     "output_type": "execute_result"
    }
   ],
   "execution_count": 41
  },
  {
   "cell_type": "code",
   "source": [
    "grid_contour = grid_results.groupby([  'max_features', 'min_samples_leaf',\n",
    "       'min_samples_split', 'n_estimators']).mean()\n",
    "grid_contour"
   ],
   "metadata": {
    "id": "FKuro_QMf7-1",
    "ExecuteTime": {
     "end_time": "2024-05-17T15:01:16.189335Z",
     "start_time": "2024-05-17T15:01:16.181935Z"
    }
   },
   "outputs": [
    {
     "data": {
      "text/plain": [
       "                   fit_intercept  positive  precision\n",
       "max_features                 1.0       1.0 -31.061210\n",
       "min_samples_leaf             1.0       0.0 -31.061210\n",
       "min_samples_split            0.0       1.0 -34.282032\n",
       "n_estimators                 0.0       0.0 -34.291093"
      ],
      "text/html": [
       "<div>\n",
       "<style scoped>\n",
       "    .dataframe tbody tr th:only-of-type {\n",
       "        vertical-align: middle;\n",
       "    }\n",
       "\n",
       "    .dataframe tbody tr th {\n",
       "        vertical-align: top;\n",
       "    }\n",
       "\n",
       "    .dataframe thead th {\n",
       "        text-align: right;\n",
       "    }\n",
       "</style>\n",
       "<table border=\"1\" class=\"dataframe\">\n",
       "  <thead>\n",
       "    <tr style=\"text-align: right;\">\n",
       "      <th></th>\n",
       "      <th>fit_intercept</th>\n",
       "      <th>positive</th>\n",
       "      <th>precision</th>\n",
       "    </tr>\n",
       "  </thead>\n",
       "  <tbody>\n",
       "    <tr>\n",
       "      <th>max_features</th>\n",
       "      <td>1.0</td>\n",
       "      <td>1.0</td>\n",
       "      <td>-31.061210</td>\n",
       "    </tr>\n",
       "    <tr>\n",
       "      <th>min_samples_leaf</th>\n",
       "      <td>1.0</td>\n",
       "      <td>0.0</td>\n",
       "      <td>-31.061210</td>\n",
       "    </tr>\n",
       "    <tr>\n",
       "      <th>min_samples_split</th>\n",
       "      <td>0.0</td>\n",
       "      <td>1.0</td>\n",
       "      <td>-34.282032</td>\n",
       "    </tr>\n",
       "    <tr>\n",
       "      <th>n_estimators</th>\n",
       "      <td>0.0</td>\n",
       "      <td>0.0</td>\n",
       "      <td>-34.291093</td>\n",
       "    </tr>\n",
       "  </tbody>\n",
       "</table>\n",
       "</div>"
      ]
     },
     "execution_count": 42,
     "metadata": {},
     "output_type": "execute_result"
    }
   ],
   "execution_count": 42
  }
 ]
}
