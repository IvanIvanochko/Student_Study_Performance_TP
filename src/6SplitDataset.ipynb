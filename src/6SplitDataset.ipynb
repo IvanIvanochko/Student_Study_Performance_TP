{
 "cells": [
  {
   "cell_type": "code",
   "id": "initial_id",
   "metadata": {
    "collapsed": true,
    "ExecuteTime": {
     "end_time": "2024-05-17T15:15:13.743471Z",
     "start_time": "2024-05-17T15:15:13.564259Z"
    }
   },
   "source": [
    "import pandas as pd\n",
    "from sklearn.model_selection import train_test_split\n",
    "import os"
   ],
   "outputs": [],
   "execution_count": 1
  },
  {
   "metadata": {
    "ExecuteTime": {
     "end_time": "2024-05-17T15:15:13.971960Z",
     "start_time": "2024-05-17T15:15:13.967553Z"
    }
   },
   "cell_type": "code",
   "source": "print(os.path.exists(\"../data/study_performance.csv\"))",
   "id": "23e7f18976e2c8c1",
   "outputs": [
    {
     "name": "stdout",
     "output_type": "stream",
     "text": [
      "True\n"
     ]
    }
   ],
   "execution_count": 2
  },
  {
   "metadata": {
    "ExecuteTime": {
     "end_time": "2024-05-17T15:15:14.764844Z",
     "start_time": "2024-05-17T15:15:14.743023Z"
    }
   },
   "cell_type": "code",
   "source": "ds = pd.read_csv(\"../data/study_performance.csv\")",
   "id": "6c1950702e1c4a2f",
   "outputs": [],
   "execution_count": 3
  },
  {
   "metadata": {
    "ExecuteTime": {
     "end_time": "2024-05-17T15:15:27.824107Z",
     "start_time": "2024-05-17T15:15:27.784795Z"
    }
   },
   "cell_type": "code",
   "source": [
    "# Split the dataset into train and predict sets\n",
    "train, predict = train_test_split(ds, test_size=0.1, random_state=42)\n",
    "\n",
    "# Define the folder path\n",
    "folder_path = \"../data\"\n",
    "\n",
    "# Save train and predict sets to CSV files\n",
    "train.to_csv(os.path.join(folder_path, \"train.csv\"), index=False)\n",
    "predict.to_csv(os.path.join(folder_path, \"predict.csv\"), index=False)"
   ],
   "id": "231bb66975813110",
   "outputs": [],
   "execution_count": 4
  },
  {
   "metadata": {},
   "cell_type": "code",
   "outputs": [],
   "execution_count": null,
   "source": "",
   "id": "746bb886e912db27"
  }
 ],
 "metadata": {
  "kernelspec": {
   "display_name": "Python 3",
   "language": "python",
   "name": "python3"
  },
  "language_info": {
   "codemirror_mode": {
    "name": "ipython",
    "version": 2
   },
   "file_extension": ".py",
   "mimetype": "text/x-python",
   "name": "python",
   "nbconvert_exporter": "python",
   "pygments_lexer": "ipython2",
   "version": "2.7.6"
  }
 },
 "nbformat": 4,
 "nbformat_minor": 5
}
