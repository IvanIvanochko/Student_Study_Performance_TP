{
 "nbformat": 4,
 "nbformat_minor": 0,
 "metadata": {
  "colab": {
   "provenance": [],
   "authorship_tag": "ABX9TyP8J1tqlCKUr1+IdIkfrtYn"
  },
  "kernelspec": {
   "name": "python3",
   "display_name": "Python 3 (ipykernel)",
   "language": "python"
  },
  "language_info": {
   "name": "python"
  }
 },
 "cells": [
  {
   "cell_type": "code",
   "metadata": {
    "id": "hqSfUwZVXEmv",
    "executionInfo": {
     "status": "ok",
     "timestamp": 1715209190475,
     "user_tz": -180,
     "elapsed": 241,
     "user": {
      "displayName": "Іван Іваночко",
      "userId": "09438379640706860617"
     }
    },
    "ExecuteTime": {
     "end_time": "2024-05-17T14:48:03.975572Z",
     "start_time": "2024-05-17T14:48:03.972205Z"
    }
   },
   "source": [
    "import os.path\n",
    "\n",
    "import pandas as pd\n",
    "import numpy as np\n",
    "import matplotlib.pyplot as plt\n",
    "import seaborn as sns\n",
    "from scipy import stats\n",
    "from sklearn.linear_model import LinearRegression\n",
    "from sklearn import metrics\n",
    "from sklearn.model_selection import train_test_split"
   ],
   "outputs": [],
   "execution_count": 54
  },
  {
   "cell_type": "code",
   "source": [
    "import warnings\n",
    "warnings.simplefilter('ignore')"
   ],
   "metadata": {
    "id": "lzvuPqMtXQBV",
    "executionInfo": {
     "status": "ok",
     "timestamp": 1715209191092,
     "user_tz": -180,
     "elapsed": 333,
     "user": {
      "displayName": "Іван Іваночко",
      "userId": "09438379640706860617"
     }
    },
    "ExecuteTime": {
     "end_time": "2024-05-17T14:48:04.378324Z",
     "start_time": "2024-05-17T14:48:04.375996Z"
    }
   },
   "outputs": [],
   "execution_count": 55
  },
  {
   "cell_type": "code",
   "source": [
    "pd.set_option('display.max_columns', 500)\n",
    "pd.set_option('display.max_rows', 500)"
   ],
   "metadata": {
    "id": "BsArA5AjXRPI",
    "executionInfo": {
     "status": "ok",
     "timestamp": 1715209191092,
     "user_tz": -180,
     "elapsed": 3,
     "user": {
      "displayName": "Іван Іваночко",
      "userId": "09438379640706860617"
     }
    },
    "ExecuteTime": {
     "end_time": "2024-05-17T14:48:04.613337Z",
     "start_time": "2024-05-17T14:48:04.610496Z"
    }
   },
   "outputs": [],
   "execution_count": 56
  },
  {
   "cell_type": "code",
   "source": "print(os.path.exists(\"../data/study_performance.csv\"))",
   "metadata": {
    "colab": {
     "base_uri": "https://localhost:8080/"
    },
    "id": "0hABLBR7XTyn",
    "executionInfo": {
     "status": "ok",
     "timestamp": 1715209192807,
     "user_tz": -180,
     "elapsed": 9,
     "user": {
      "displayName": "Іван Іваночко",
      "userId": "09438379640706860617"
     }
    },
    "outputId": "2a79b77f-af0c-4dd2-e442-f60c9d975838",
    "ExecuteTime": {
     "end_time": "2024-05-17T14:48:04.788134Z",
     "start_time": "2024-05-17T14:48:04.784133Z"
    }
   },
   "outputs": [
    {
     "name": "stdout",
     "output_type": "stream",
     "text": [
      "True\n"
     ]
    }
   ],
   "execution_count": 57
  },
  {
   "cell_type": "code",
   "source": "ds = pd.read_csv(\"../data/study_performance.csv\")",
   "metadata": {
    "id": "N31aeXzOXVhP",
    "executionInfo": {
     "status": "ok",
     "timestamp": 1715209192807,
     "user_tz": -180,
     "elapsed": 7,
     "user": {
      "displayName": "Іван Іваночко",
      "userId": "09438379640706860617"
     }
    },
    "ExecuteTime": {
     "end_time": "2024-05-17T14:48:05.139274Z",
     "start_time": "2024-05-17T14:48:05.120384Z"
    }
   },
   "outputs": [],
   "execution_count": 58
  },
  {
   "cell_type": "code",
   "source": [
    "print('columns count - ',len(ds.columns), '\\n')\n",
    "print('columns: ',list(ds.columns))"
   ],
   "metadata": {
    "colab": {
     "base_uri": "https://localhost:8080/"
    },
    "id": "bI_p3s5FXW3K",
    "executionInfo": {
     "status": "ok",
     "timestamp": 1715209192807,
     "user_tz": -180,
     "elapsed": 7,
     "user": {
      "displayName": "Іван Іваночко",
      "userId": "09438379640706860617"
     }
    },
    "outputId": "4ddd2a13-6ec8-4403-e920-7b9f0021c62a",
    "ExecuteTime": {
     "end_time": "2024-05-17T14:48:05.597872Z",
     "start_time": "2024-05-17T14:48:05.594732Z"
    }
   },
   "outputs": [
    {
     "name": "stdout",
     "output_type": "stream",
     "text": [
      "columns count -  8 \n",
      "\n",
      "columns:  ['gender', 'race_ethnicity', 'parental_level_of_education', 'lunch', 'test_preparation_course', 'math_score', 'reading_score', 'writing_score']\n"
     ]
    }
   ],
   "execution_count": 59
  },
  {
   "cell_type": "markdown",
   "source": [
    "## Data engineering"
   ],
   "metadata": {
    "id": "LKOJVcwZXl3Y"
   }
  },
  {
   "cell_type": "code",
   "source": [
    "# Numerical data\n",
    "numeric_columns = ds.select_dtypes(include=['float64', 'int64']).columns\n",
    "for col in numeric_columns:\n",
    "    if ds[col].isnull().any():\n",
    "        median_value = ds[col].mode()[0]\n",
    "        ds[col].fillna(median_value, inplace=True)"
   ],
   "metadata": {
    "id": "l11A7ExFXo4-",
    "executionInfo": {
     "status": "ok",
     "timestamp": 1715209192807,
     "user_tz": -180,
     "elapsed": 6,
     "user": {
      "displayName": "Іван Іваночко",
      "userId": "09438379640706860617"
     }
    },
    "ExecuteTime": {
     "end_time": "2024-05-17T14:48:06.491413Z",
     "start_time": "2024-05-17T14:48:06.486883Z"
    }
   },
   "outputs": [],
   "execution_count": 60
  },
  {
   "cell_type": "code",
   "source": [
    "ds.isnull().sum().sum()"
   ],
   "metadata": {
    "colab": {
     "base_uri": "https://localhost:8080/"
    },
    "id": "8rxZ31opXuvo",
    "executionInfo": {
     "status": "ok",
     "timestamp": 1715209192807,
     "user_tz": -180,
     "elapsed": 6,
     "user": {
      "displayName": "Іван Іваночко",
      "userId": "09438379640706860617"
     }
    },
    "outputId": "51e93a35-3608-4500-fbc7-9219e3de1123",
    "ExecuteTime": {
     "end_time": "2024-05-17T14:48:06.916958Z",
     "start_time": "2024-05-17T14:48:06.912542Z"
    }
   },
   "outputs": [
    {
     "data": {
      "text/plain": [
       "0"
      ]
     },
     "execution_count": 61,
     "metadata": {},
     "output_type": "execute_result"
    }
   ],
   "execution_count": 61
  },
  {
   "cell_type": "code",
   "source": [
    "# Categorical\n",
    "categorical_columns = ds.select_dtypes(include=['object']).columns\n",
    "\n",
    "map_dicts = dict()\n",
    "for column in categorical_columns:\n",
    "    ds[column] = ds[column].astype('category')\n",
    "    map_dicts[column] = dict(zip(ds[column], ds[column].cat.codes))\n",
    "    ds[column] = ds[column].cat.codes"
   ],
   "metadata": {
    "id": "-dSEK0ISXwBM",
    "executionInfo": {
     "status": "ok",
     "timestamp": 1715209192808,
     "user_tz": -180,
     "elapsed": 6,
     "user": {
      "displayName": "Іван Іваночко",
      "userId": "09438379640706860617"
     }
    },
    "ExecuteTime": {
     "end_time": "2024-05-17T14:48:07.410089Z",
     "start_time": "2024-05-17T14:48:07.403379Z"
    }
   },
   "outputs": [],
   "execution_count": 62
  },
  {
   "cell_type": "code",
   "source": [
    "ds.isnull().sum().sum()"
   ],
   "metadata": {
    "colab": {
     "base_uri": "https://localhost:8080/"
    },
    "id": "lkXgfc2kXxj_",
    "executionInfo": {
     "status": "ok",
     "timestamp": 1715209192808,
     "user_tz": -180,
     "elapsed": 6,
     "user": {
      "displayName": "Іван Іваночко",
      "userId": "09438379640706860617"
     }
    },
    "outputId": "dc7ccdf2-fe4c-4b88-fd99-52d56248ad84",
    "ExecuteTime": {
     "end_time": "2024-05-17T14:48:08.023977Z",
     "start_time": "2024-05-17T14:48:08.018674Z"
    }
   },
   "outputs": [
    {
     "data": {
      "text/plain": [
       "0"
      ]
     },
     "execution_count": 63,
     "metadata": {},
     "output_type": "execute_result"
    }
   ],
   "execution_count": 63
  },
  {
   "cell_type": "markdown",
   "source": [
    "# Modelling and Validation"
   ],
   "metadata": {
    "id": "-gGueJbuXyD-"
   }
  },
  {
   "cell_type": "markdown",
   "source": [
    "#### Define target and features columns"
   ],
   "metadata": {
    "id": "hyK3_Mz8X2qt"
   }
  },
  {
   "cell_type": "code",
   "source": [
    "y_column = ['math_score'] # target variable\n",
    "X_columns = ['gender', 'race_ethnicity', 'parental_level_of_education', 'lunch', 'test_preparation_course', 'reading_score', 'writing_score']\n",
    "X = ds[X_columns]\n",
    "y = ds[y_column]"
   ],
   "metadata": {
    "id": "hOz1uUTNXzki",
    "executionInfo": {
     "status": "ok",
     "timestamp": 1715209192808,
     "user_tz": -180,
     "elapsed": 5,
     "user": {
      "displayName": "Іван Іваночко",
      "userId": "09438379640706860617"
     }
    },
    "ExecuteTime": {
     "end_time": "2024-05-17T14:48:10.594734Z",
     "start_time": "2024-05-17T14:48:10.590424Z"
    }
   },
   "outputs": [],
   "execution_count": 64
  },
  {
   "cell_type": "markdown",
   "source": [
    "### Definition of Train-Valid-Test Split"
   ],
   "metadata": {
    "id": "ObBs5ng3YUly"
   }
  },
  {
   "cell_type": "code",
   "source": [
    "# Let's say we want to split the data in 80:10:10 for train:valid:test dataset\n",
    "# In the first step we will split the data in training and remaining dataset\n",
    "X_train, X_rem, y_train, y_rem = train_test_split(X,y, train_size=0.8)\n",
    "\n",
    "# Now since we want the valid and test size to be equal (10% each of overall data).\n",
    "# we have to define valid_size=0.5 (that is 50% of remaining data)\n",
    "X_valid, X_test, y_valid, y_test = train_test_split(X_rem,y_rem, test_size=0.5)\n",
    "\n",
    "print(X_train.shape)\n",
    "print(y_train.shape)\n",
    "print(X_valid.shape)\n",
    "print(y_valid.shape)\n",
    "print(X_test.shape)\n",
    "print(y_test.shape)"
   ],
   "metadata": {
    "colab": {
     "base_uri": "https://localhost:8080/"
    },
    "id": "QgB0tI52YQAP",
    "executionInfo": {
     "status": "ok",
     "timestamp": 1715209192808,
     "user_tz": -180,
     "elapsed": 5,
     "user": {
      "displayName": "Іван Іваночко",
      "userId": "09438379640706860617"
     }
    },
    "outputId": "c81a80f1-e6ab-409a-b460-54f6fe38c896",
    "ExecuteTime": {
     "end_time": "2024-05-17T14:48:11.829159Z",
     "start_time": "2024-05-17T14:48:11.812759Z"
    }
   },
   "outputs": [
    {
     "name": "stdout",
     "output_type": "stream",
     "text": [
      "(800, 7)\n",
      "(800, 1)\n",
      "(100, 7)\n",
      "(100, 1)\n",
      "(100, 7)\n",
      "(100, 1)\n"
     ]
    }
   ],
   "execution_count": 65
  },
  {
   "cell_type": "code",
   "source": "models = { 'LinearRegression' : LinearRegression() }",
   "metadata": {
    "id": "-SmvZBcyZbbP",
    "executionInfo": {
     "status": "ok",
     "timestamp": 1715209192808,
     "user_tz": -180,
     "elapsed": 4,
     "user": {
      "displayName": "Іван Іваночко",
      "userId": "09438379640706860617"
     }
    },
    "ExecuteTime": {
     "end_time": "2024-05-17T14:49:59.738855Z",
     "start_time": "2024-05-17T14:49:59.735998Z"
    }
   },
   "outputs": [],
   "execution_count": 69
  },
  {
   "cell_type": "code",
   "source": [
    "regressors = dict()\n",
    "for name, model in models.items():\n",
    "    print('training ',name)\n",
    "    regressor = model\n",
    "    regressor.fit(X_train, y_train)\n",
    "    y_pred = regressor.predict(X_test)\n",
    "    print(metrics.mean_absolute_error(y_test, y_pred))\n",
    "    print(metrics.mean_absolute_percentage_error(y_test, y_pred))\n",
    "    regressors[name] = regressor\n"
   ],
   "metadata": {
    "colab": {
     "base_uri": "https://localhost:8080/"
    },
    "id": "tq9cbuH5Zc_4",
    "executionInfo": {
     "status": "ok",
     "timestamp": 1715209195475,
     "user_tz": -180,
     "elapsed": 2671,
     "user": {
      "displayName": "Іван Іваночко",
      "userId": "09438379640706860617"
     }
    },
    "outputId": "574d2862-5475-4e8e-87bc-bc8bc86f4caf",
    "ExecuteTime": {
     "end_time": "2024-05-17T14:50:00.516381Z",
     "start_time": "2024-05-17T14:50:00.508Z"
    }
   },
   "outputs": [
    {
     "name": "stdout",
     "output_type": "stream",
     "text": [
      "training  LinearRegression\n",
      "4.050674890416868\n",
      "224884019630211.88\n"
     ]
    }
   ],
   "execution_count": 70
  },
  {
   "cell_type": "markdown",
   "source": [
    "# Random permutations cross-validation"
   ],
   "metadata": {
    "id": "dG7aCNOsZmTb"
   }
  },
  {
   "cell_type": "code",
   "source": [
    "from sklearn.model_selection import ShuffleSplit\n",
    "\n",
    "ss = ShuffleSplit(n_splits=1, test_size=0.2, random_state=0)\n",
    "for train_index, test_index in ss.split(X):\n",
    "    regressor = LinearRegression()\n",
    "    regressor.fit(X.iloc[train_index], y.iloc[train_index])\n",
    "    y_pred = regressor.predict(X.iloc[test_index])\n",
    "    \n",
    "    # Evaluate regression metrics\n",
    "    mae = metrics.mean_absolute_error(y.iloc[test_index], y_pred)\n",
    "    mse = metrics.mean_squared_error(y.iloc[test_index], y_pred)\n",
    "    r2 = metrics.r2_score(y.iloc[test_index], y_pred)\n",
    "    \n",
    "    print('Mean Absolute Error:', mae)\n",
    "    print('Mean Squared Error:', mse)\n",
    "    print('R-squared:', r2)\n"
   ],
   "metadata": {
    "colab": {
     "base_uri": "https://localhost:8080/"
    },
    "id": "B4PGs5-bZj0D",
    "executionInfo": {
     "status": "ok",
     "timestamp": 1715209209256,
     "user_tz": -180,
     "elapsed": 8168,
     "user": {
      "displayName": "Іван Іваночко",
      "userId": "09438379640706860617"
     }
    },
    "outputId": "31a8c619-fca7-4231-c653-8d9d8e1394e3",
    "ExecuteTime": {
     "end_time": "2024-05-17T14:53:40.284481Z",
     "start_time": "2024-05-17T14:53:40.275484Z"
    }
   },
   "outputs": [
    {
     "name": "stdout",
     "output_type": "stream",
     "text": [
      "Mean Absolute Error: 4.402780807752258\n",
      "Mean Squared Error: 31.318669059894845\n",
      "R-squared: 0.8617897267279011\n"
     ]
    }
   ],
   "execution_count": 73
  }
 ]
}
